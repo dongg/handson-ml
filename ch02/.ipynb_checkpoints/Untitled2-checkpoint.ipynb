{
 "cells": [
  {
   "cell_type": "code",
   "execution_count": 1,
   "metadata": {},
   "outputs": [
    {
     "name": "stdout",
     "output_type": "stream",
     "text": [
      "   nm   gn ad     ht    wt\n",
      "0  Km    F  Y  150.0  50.0\n",
      "1  Le    F  Y  160.0  60.0\n",
      "2  Pk    F  N    NaN  65.0\n",
      "3  Ch    F  N  170.0  55.0\n",
      "4  Jg  NaN  N  160.0   NaN\n",
      "5  Kg    M  Y  165.0  65.0\n",
      "6  Jo    M  Y  175.0  70.0\n",
      "7  Yn    M  Y    NaN  75.0\n",
      "8  Jn    M  N  185.0  75.0\n",
      "9  Lm  NaN  N  175.0   NaN\n"
     ]
    },
    {
     "data": {
      "text/html": [
       "<div>\n",
       "<style scoped>\n",
       "    .dataframe tbody tr th:only-of-type {\n",
       "        vertical-align: middle;\n",
       "    }\n",
       "\n",
       "    .dataframe tbody tr th {\n",
       "        vertical-align: top;\n",
       "    }\n",
       "\n",
       "    .dataframe thead tr th {\n",
       "        text-align: left;\n",
       "    }\n",
       "\n",
       "    .dataframe thead tr:last-of-type th {\n",
       "        text-align: right;\n",
       "    }\n",
       "</style>\n",
       "<table border=\"1\" class=\"dataframe\">\n",
       "  <thead>\n",
       "    <tr>\n",
       "      <th></th>\n",
       "      <th colspan=\"6\" halign=\"left\">ht</th>\n",
       "      <th colspan=\"6\" halign=\"left\">wt</th>\n",
       "    </tr>\n",
       "    <tr>\n",
       "      <th></th>\n",
       "      <th>count</th>\n",
       "      <th>mean</th>\n",
       "      <th>std</th>\n",
       "      <th>min</th>\n",
       "      <th>50%</th>\n",
       "      <th>max</th>\n",
       "      <th>count</th>\n",
       "      <th>mean</th>\n",
       "      <th>std</th>\n",
       "      <th>min</th>\n",
       "      <th>50%</th>\n",
       "      <th>max</th>\n",
       "    </tr>\n",
       "    <tr>\n",
       "      <th>gn</th>\n",
       "      <th></th>\n",
       "      <th></th>\n",
       "      <th></th>\n",
       "      <th></th>\n",
       "      <th></th>\n",
       "      <th></th>\n",
       "      <th></th>\n",
       "      <th></th>\n",
       "      <th></th>\n",
       "      <th></th>\n",
       "      <th></th>\n",
       "      <th></th>\n",
       "    </tr>\n",
       "  </thead>\n",
       "  <tbody>\n",
       "    <tr>\n",
       "      <th>F</th>\n",
       "      <td>3.0</td>\n",
       "      <td>160.0</td>\n",
       "      <td>10.0</td>\n",
       "      <td>150.0</td>\n",
       "      <td>160.0</td>\n",
       "      <td>170.0</td>\n",
       "      <td>4.0</td>\n",
       "      <td>57.50</td>\n",
       "      <td>6.454972</td>\n",
       "      <td>50.0</td>\n",
       "      <td>57.5</td>\n",
       "      <td>65.0</td>\n",
       "    </tr>\n",
       "    <tr>\n",
       "      <th>M</th>\n",
       "      <td>3.0</td>\n",
       "      <td>175.0</td>\n",
       "      <td>10.0</td>\n",
       "      <td>165.0</td>\n",
       "      <td>175.0</td>\n",
       "      <td>185.0</td>\n",
       "      <td>4.0</td>\n",
       "      <td>71.25</td>\n",
       "      <td>4.787136</td>\n",
       "      <td>65.0</td>\n",
       "      <td>72.5</td>\n",
       "      <td>75.0</td>\n",
       "    </tr>\n",
       "  </tbody>\n",
       "</table>\n",
       "</div>"
      ],
      "text/plain": [
       "      ht                                      wt                               \\\n",
       "   count   mean   std    min    50%    max count   mean       std   min   50%   \n",
       "gn                                                                              \n",
       "F    3.0  160.0  10.0  150.0  160.0  170.0   4.0  57.50  6.454972  50.0  57.5   \n",
       "M    3.0  175.0  10.0  165.0  175.0  185.0   4.0  71.25  4.787136  65.0  72.5   \n",
       "\n",
       "          \n",
       "     max  \n",
       "gn        \n",
       "F   65.0  \n",
       "M   75.0  "
      ]
     },
     "execution_count": 1,
     "metadata": {},
     "output_type": "execute_result"
    }
   ],
   "source": [
    "import pandas as pd\n",
    "\n",
    "dfr = pd.read_csv('D:/000/00DATA/sample001.csv')\n",
    "print(dfr)\n",
    "dfr.describe()\n",
    "dfr.groupby(dfr['gn']).describe(percentiles=[])\n"
   ]
  },
  {
   "cell_type": "code",
   "execution_count": 5,
   "metadata": {},
   "outputs": [],
   "source": [
    "from sklearn import preprocessing\n",
    "x = preprocessing.StandardScaler().fit(dfr[['ht','wt']])"
   ]
  },
  {
   "cell_type": "code",
   "execution_count": 8,
   "metadata": {},
   "outputs": [
    {
     "data": {
      "text/plain": [
       "array([[-1.69774938, -1.70020892],\n",
       "       [-0.72760688, -0.51745489],\n",
       "       [        nan,  0.07392213],\n",
       "       [ 0.24253563, -1.10883191],\n",
       "       [-0.72760688,         nan],\n",
       "       [-0.24253563,  0.07392213],\n",
       "       [ 0.72760688,  0.66529914],\n",
       "       [        nan,  1.25667616],\n",
       "       [ 1.69774938,  1.25667616],\n",
       "       [ 0.72760688,         nan]])"
      ]
     },
     "execution_count": 8,
     "metadata": {},
     "output_type": "execute_result"
    }
   ],
   "source": [
    "x.transform(dfr[['ht','wt']])"
   ]
  },
  {
   "cell_type": "code",
   "execution_count": null,
   "metadata": {},
   "outputs": [],
   "source": []
  }
 ],
 "metadata": {
  "kernelspec": {
   "display_name": "Python 3",
   "language": "python",
   "name": "python3"
  },
  "language_info": {
   "codemirror_mode": {
    "name": "ipython",
    "version": 3
   },
   "file_extension": ".py",
   "mimetype": "text/x-python",
   "name": "python",
   "nbconvert_exporter": "python",
   "pygments_lexer": "ipython3",
   "version": "3.6.8"
  }
 },
 "nbformat": 4,
 "nbformat_minor": 2
}
